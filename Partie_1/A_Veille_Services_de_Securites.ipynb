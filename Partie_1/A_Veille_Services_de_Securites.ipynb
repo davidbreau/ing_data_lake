{
 "cells": [
  {
   "cell_type": "markdown",
   "metadata": {},
   "source": [
    "<small><i>Veille sur les systèmes de sécurité</i></small>\n",
    "\n"
   ]
  },
  {
   "cell_type": "markdown",
   "metadata": {
    "vscode": {
     "languageId": "plaintext"
    }
   },
   "source": [
    "#     Storage Access Keys 🔑"
   ]
  },
  {
   "cell_type": "markdown",
   "metadata": {
    "vscode": {
     "languageId": "plaintext"
    }
   },
   "source": [
    "Sur Azure, les `Storage Access Keys` sont des <u>clés</u> qui permettent l'accès à une ressource de stockage.  \n",
    "Deux clés sont générées par le système et sont utilisées pour l'authentification lors des opérations sur le stockage, ce qui permet une rotation des clés sans interruption de service, au cas où une clé serait compromise."
   ]
  },
  {
   "cell_type": "markdown",
   "metadata": {
    "vscode": {
     "languageId": "plaintext"
    }
   },
   "source": [
    "<img src=\"https://learn.microsoft.com/en-us/azure/key-vault/media/secrets/rotation-dual/rotation-diagram.png\" style=\"max-width: 500px;\">"
   ]
  },
  {
   "cell_type": "markdown",
   "metadata": {},
   "source": [
    "➕   \n",
    "Simple à implémenter    \n",
    "Permet de maintenir le service pendant la rotation  \n",
    "\n",
    "➖  \n",
    "Donne l'accès complet à la ressource  \n",
    "Aucun suivi des utilisations"
   ]
  },
  {
   "cell_type": "markdown",
   "metadata": {
    "vscode": {
     "languageId": "plaintext"
    }
   },
   "source": [
    "<i>Scénarios</i> :\n",
    "\n",
    "- En développement ou en sandbox.\n",
    "- Besoin d'une intégration rapide et sans granularité comme une migration de données qui a besoin de l'accès complet."
   ]
  },
  {
   "cell_type": "markdown",
   "metadata": {},
   "source": [
    "# Shared Access Signatures (SAS) 🔗"
   ]
  },
  {
   "cell_type": "markdown",
   "metadata": {
    "vscode": {
     "languageId": "plaintext"
    }
   },
   "source": [
    "Une `SAS` est une <u>partie d'URL</u> qui permet d'accéder temporairement et de manière contrôlée à des ressources spécifiques dans Azure.   \n",
    "Elle inclut des paramètres qui définissent la durée de validité, les permissions (comme la lecture ou l'écriture) et les ressources accessibles."
   ]
  },
  {
   "cell_type": "markdown",
   "metadata": {
    "vscode": {
     "languageId": "plaintext"
    }
   },
   "source": [
    "<img src=\"https://learn.microsoft.com/en-us/azure/storage/common/media/storage-sas-overview/sas-storage-provider-service.png\" style=\"max-width: 500px;\">\n"
   ]
  },
  {
   "cell_type": "markdown",
   "metadata": {
    "vscode": {
     "languageId": "plaintext"
    }
   },
   "source": [
    "➕   \n",
    "Flexible, on partage uniquement ce qui est nécessaire.  \n",
    "Toutes les SAS sont revoquées en régénérant les clés principales du compte.\n",
    "\n",
    "➖  \n",
    "Si l’URL de la SAS est divulguée, elle reste utilisable jusqu’à expiration.   \n",
    "La gestion des dates d’expiration peut devenir complexe si de nombreuses SAS sont actives."
   ]
  },
  {
   "cell_type": "markdown",
   "metadata": {
    "vscode": {
     "languageId": "plaintext"
    }
   },
   "source": [
    "<i>Scénarios</i> :\n",
    "- Permettre à un client de télécharger un fichier spécifique dans un stockage blob, sans accéder au reste.\n",
    "- Accès temporaire à une ressource pour un utilisateur non authentifié.\n",
    "- Génération de liens sécurisés le téléchargement d’un document généré dynamiquement."
   ]
  },
  {
   "cell_type": "markdown",
   "metadata": {},
   "source": [
    "# Microsoft Entra ID 🪪"
   ]
  },
  {
   "cell_type": "markdown",
   "metadata": {
    "vscode": {
     "languageId": "plaintext"
    }
   },
   "source": [
    "Ex-<i>Azure Active Directory</i>, `Microsoft Entra ID` est le système de gestion des identités d’Azure.  \n",
    "Il permet de vérifier l’identité des utilisateurs et des applications. Au lieu de partager des clés, on utilise des comptes qui disposent de permissions spécifiques.   \n",
    "Les comptes de service, ou service principals, sont des identités dédiées aux applications."
   ]
  },
  {
   "cell_type": "markdown",
   "metadata": {
    "vscode": {
     "languageId": "plaintext"
    }
   },
   "source": [
    "<img src=\"https://cdn-dynmedia-1.microsoft.com/is/image/microsoftcorp/Entra_ID_Diagram_new?resMode=sharp2&op_usm=1.5,0.65,15,0&wid=1920&hei=750&qlt=100&fit=constrain\" style=\"max-width: 500px;\">"
   ]
  },
  {
   "cell_type": "markdown",
   "metadata": {
    "vscode": {
     "languageId": "plaintext"
    }
   },
   "source": [
    "➕   \n",
    "Gestion centralisée des identités et des accès.  \n",
    "Sécurisé, avec des fonctionnalités comme l’authentification multi-facteurs (MFA).\n",
    "\n",
    "➖  \n",
    "Configuration parfois complexe à mettre en place.  \n",
    "Une mauvaise configuration peut entraîner des interruptions importantes."
   ]
  },
  {
   "cell_type": "markdown",
   "metadata": {
    "vscode": {
     "languageId": "plaintext"
    }
   },
   "source": [
    "<i>Scénarios</i> :\n",
    "- Autoriser uniquement certains utilisateurs d’une organisation à accéder à un Data Lake.\n",
    "- Accorder des permissions spécifiques à une application pour interagir avec des ressources Azure."
   ]
  },
  {
   "cell_type": "markdown",
   "metadata": {},
   "source": [
    "# Azure Key Vault 🏦"
   ]
  },
  {
   "cell_type": "markdown",
   "metadata": {
    "vscode": {
     "languageId": "plaintext"
    }
   },
   "source": [
    "`Azure Key Vault` est un coffre-fort numérique conçu pour stocker en toute sécurité les informations sensibles comme les mots de passe, les certificats ou les clés de chiffrement. Plutôt que de garder ces secrets dans le code ou sur des serveurs, on les centralise ici pour un accès sécurisé.\n"
   ]
  },
  {
   "cell_type": "markdown",
   "metadata": {
    "vscode": {
     "languageId": "plaintext"
    }
   },
   "source": [
    "<img src=\"https://learn.microsoft.com/en-us/azure/app-service/media/tutorial-connect-msi-key-vault/architecture.png\" style=\"max-width: 500px;\">"
   ]
  },
  {
   "cell_type": "markdown",
   "metadata": {
    "vscode": {
     "languageId": "plaintext"
    }
   },
   "source": [
    "➕   \n",
    "Sécurise les secrets et évite qu’ils soient accidentellement exposés.  \n",
    "Gestion et rotation des secrets simplifiée.  \n",
    "\n",
    "➖  \n",
    "Ajoute une étape supplémentaire, car toutes les applications doivent interroger le coffre.  \n",
    "En cas de panne, les applications qui en dépendent peuvent être impactées."
   ]
  },
  {
   "cell_type": "markdown",
   "metadata": {
    "vscode": {
     "languageId": "plaintext"
    }
   },
   "source": [
    "<i>Scénarios :</i>\n",
    "- Centraliser les mots de passe ou certificats utilisés par les services d'intégration\n",
    "- Stocker et gérer des clés de chiffrement pour sécuriser les données"
   ]
  },
  {
   "cell_type": "markdown",
   "metadata": {},
   "source": [
    "# IAM et Role-Based Access Control 🧑‍💻"
   ]
  },
  {
   "cell_type": "markdown",
   "metadata": {
    "vscode": {
     "languageId": "plaintext"
    }
   },
   "source": [
    "L’`IAM` (Identity and Access Management) avec `RBAC` (Role-Based Access Control) permet de gérer précisément qui peut faire quoi. Plutôt que de distribuer des clés génériques, on attribue des rôles comme « lecteur » ou « contributeur » aux utilisateurs ou groupes, leur donnant uniquement les permissions nécessaires."
   ]
  },
  {
   "cell_type": "markdown",
   "metadata": {
    "vscode": {
     "languageId": "plaintext"
    }
   },
   "source": [
    "<img src=\"https://miro.medium.com/v2/resize:fit:640/format:webp/1*ub3g0nUC6NCkYPHoNB6rFw.png\" style=\"max-width: 500px;\">"
   ]
  },
  {
   "cell_type": "markdown",
   "metadata": {
    "vscode": {
     "languageId": "plaintext"
    }
   },
   "source": [
    "➕   \n",
    "Contrôle granulaire des accès : on peut être très précis dans les permissions.  \n",
    "Facile à gérer à grande échelle grâce aux groupes et aux rôles prédéfinis.  \n",
    "Application du moindre privilège \n",
    "\n",
    "➖  \n",
    "Peut devenir compliqué avec un grand nombre de rôles ou d’exceptions.  \n",
    "Les erreurs de configuration peuvent être difficiles à diagnostiquer à cause des couches multiples."
   ]
  },
  {
   "cell_type": "markdown",
   "metadata": {
    "vscode": {
     "languageId": "plaintext"
    }
   },
   "source": [
    "<i>Scénarios :</i>\n",
    "- Donner un accès « lecture seule » à une équipe\n",
    "- Accorder des droits « contributeur » à un service principal pour créer des ressources sans les supprimer."
   ]
  }
 ],
 "metadata": {
  "language_info": {
   "name": "python"
  }
 },
 "nbformat": 4,
 "nbformat_minor": 2
}
