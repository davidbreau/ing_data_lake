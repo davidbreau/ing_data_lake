{
 "cells": [
  {
   "cell_type": "markdown",
   "metadata": {},
   "source": [
    "### A. Données CSV depuis Inside Airbnb"
   ]
  },
  {
   "cell_type": "markdown",
   "metadata": {},
   "source": [
    "Vérifier l'abonnement associé au CLI"
   ]
  },
  {
   "cell_type": "code",
   "execution_count": 2,
   "metadata": {},
   "outputs": [
    {
     "name": "stdout",
     "output_type": "stream",
     "text": [
      "Name                              CloudName    SubscriptionId                        TenantId                              State    IsDefault\n",
      "--------------------------------  -----------  ------------------------------------  ------------------------------------  -------  -----------\n",
      "Simplon - HDF - Data Engineer P1  AzureCloud   029b3537-0f24-400b-b624-6058a145efe1  a2e466aa-4f86-4545-b5b8-97da7c8febf3  Enabled  True\n",
      "Simplon HDF Roubaix Dev IA P1     AzureCloud   111aaa69-41b9-4dfd-b6af-2ada039dd1ae  a2e466aa-4f86-4545-b5b8-97da7c8febf3  Enabled  False\n"
     ]
    }
   ],
   "source": [
    "%%bash\n",
    "\n",
    "az account list --output table"
   ]
  },
  {
   "cell_type": "markdown",
   "metadata": {},
   "source": [
    "Création du ressource group"
   ]
  },
  {
   "cell_type": "code",
   "execution_count": 21,
   "metadata": {},
   "outputs": [
    {
     "name": "stdout",
     "output_type": "stream",
     "text": [
      "{\n",
      "  \"id\": \"/subscriptions/029b3537-0f24-400b-b624-6058a145efe1/resourceGroups/RG_DBREAU\",\n",
      "  \"location\": \"francecentral\",\n",
      "  \"managedBy\": null,\n",
      "  \"name\": \"RG_DBREAU\",\n",
      "  \"properties\": {\n",
      "    \"provisioningState\": \"Succeeded\"\n",
      "  },\n",
      "  \"tags\": null,\n",
      "  \"type\": \"Microsoft.Resources/resourceGroups\"\n",
      "}\n"
     ]
    }
   ],
   "source": [
    "%%bash\n",
    "source ../config.sh\n",
    "\n",
    "\n",
    "az group create \\\n",
    "    --name $RG_NAME \\\n",
    "    --location $LOCATION \\\n",
    "    --query \"{Name:name, Location:location, ProvisioningState:properties.provisioningState}\" \\\n",
    "    --output table"
   ]
  },
  {
   "cell_type": "markdown",
   "metadata": {},
   "source": [
    "### Data Lake\n",
    "Création du data lake storage gen 2"
   ]
  },
  {
   "cell_type": "code",
   "execution_count": 22,
   "metadata": {},
   "outputs": [],
   "source": [
    "%%bash\n",
    "\n",
    "RG_NAME=\"RG_DBREAU\"\n",
    "\n",
    "STORAGE_ACCOUNT_NAME=\"adlsbreau\"\n",
    "LOCATION=\"FranceCentral\"\n",
    "\n",
    "if $(az storage account check-name --name $STORAGE_ACCOUNT_NAME --query \"nameAvailable\" -o tsv); then\n",
    "    az storage account create \\\n",
    "      --name $STORAGE_ACCOUNT_NAME \\\n",
    "      --resource-group $RG_NAME \\\n",
    "      --location $LOCATION \\\n",
    "      --sku Standard_LRS \\\n",
    "      --kind StorageV2 \\\n",
    "      --hns true   # 🚨 important pour créer data lake et pas un storage account\n",
    "fi"
   ]
  },
  {
   "cell_type": "markdown",
   "metadata": {},
   "source": [
    "Création du conteneur dans le data lake"
   ]
  },
  {
   "cell_type": "code",
   "execution_count": 23,
   "metadata": {},
   "outputs": [
    {
     "name": "stdout",
     "output_type": "stream",
     "text": [
      "{\n",
      "  \"created\": true\n",
      "}\n"
     ]
    }
   ],
   "source": [
    "%%bash\n",
    "\n",
    "RG_NAME=\"RG_DBREAU\"\n",
    "STORAGE_ACCOUNT_NAME=\"adlsbreau\"\n",
    "\n",
    "CONTAINER_NAME=\"data\"\n",
    "\n",
    "if ! az storage container show --name $CONTAINER_NAME --account-name $STORAGE_ACCOUNT_NAME --query \"name\" -o tsv &>/dev/null; then\n",
    "    # Créer un conteneur dans le Data Lake Storage Gen 2\n",
    "    az storage container create \\\n",
    "      --name $CONTAINER_NAME \\\n",
    "      --account-name $STORAGE_ACCOUNT_NAME \\\n",
    "      --auth-mode login\n",
    "fi"
   ]
  },
  {
   "cell_type": "markdown",
   "metadata": {},
   "source": [
    "### Key Vault\n",
    "Création du Key Vault"
   ]
  },
  {
   "cell_type": "code",
   "execution_count": 54,
   "metadata": {},
   "outputs": [],
   "source": [
    "%%bash\n",
    "\n",
    "RG_NAME=\"RG_DBREAU\"\n",
    "\n",
    "KEY_VAULT_NAME=\"keyvault-dbreau\"  \n",
    "LOCATION=\"FranceCentral\"\n",
    "\n",
    "if ! az keyvault show --name $KEY_VAULT_NAME --query \"name\" -o tsv &>/dev/null; then\n",
    "    az keyvault create \\\n",
    "        --name $KEY_VAULT_NAME \\\n",
    "        --resource-group $RG_NAME \\\n",
    "        --location $LOCATION \\\n",
    "        --sku standard \\\n",
    "        --enable-rbac-authorization false\n",
    "fi"
   ]
  },
  {
   "cell_type": "markdown",
   "metadata": {},
   "source": [
    "Vérifier les ressources"
   ]
  },
  {
   "cell_type": "code",
   "execution_count": 1,
   "metadata": {},
   "outputs": [
    {
     "name": "stdout",
     "output_type": "stream",
     "text": [
      "Name             ResourceGroup    Location       Type                               Status\n",
      "---------------  ---------------  -------------  ---------------------------------  --------\n",
      "adlsbreau        RG_DBREAU        francecentral  Microsoft.Storage/storageAccounts\n",
      "keyvault-dbreau  RG_DBREAU        francecentral  Microsoft.KeyVault/vaults\n"
     ]
    }
   ],
   "source": [
    "%%bash\n",
    "\n",
    "az resource list --resource-group RG_DBREAU --output table"
   ]
  },
  {
   "cell_type": "markdown",
   "metadata": {},
   "source": [
    "### Service principal secondaire\n",
    "Créer le service principal lié au key vault et stocker les credentials"
   ]
  },
  {
   "cell_type": "code",
   "execution_count": 56,
   "metadata": {},
   "outputs": [
    {
     "name": "stderr",
     "output_type": "stream",
     "text": [
      "WARNING: Found an existing application instance: (id) 229a6846-daa9-45e2-91b0-7e49ca23d033. We will patch it.\n",
      "WARNING: The output includes credentials that you must protect. Be sure that you do not include these credentials in your code or check the credentials into your source control. For more information, see https://aka.ms/azadsp-cli\n"
     ]
    }
   ],
   "source": [
    "%%bash \n",
    "\n",
    "RG_NAME=\"RG_DBREAU\"\n",
    "KEY_VAULT_NAME=\"keyvault-dbreau\"\n",
    "\n",
    "SP_NAME=\"sp-keyvault-dbreau\" \n",
    "\n",
    "# Récupére les informations du sp\n",
    "SP_DETAILS=$(az ad sp create-for-rbac \\\n",
    "    --name \"$SP_NAME\" \\\n",
    "    --query \"{appId:appId, password:password, tenant:tenant}\" \\\n",
    "    -o json)\n",
    "\n",
    "# Reparties les informations à stocker dans des variables\n",
    "SP_SECONDARY_APP_ID=$(echo $SP_DETAILS | jq -r '.appId')\n",
    "SP_SECONDARY_PASSWORD=$(echo $SP_DETAILS | jq -r '.password')\n",
    "SP_SECONDARY_TENANT_ID=$(echo $SP_DETAILS | jq -r '.tenant')\n",
    "\n",
    "# Reporte dans le fichier .env\n",
    "{\n",
    "  echo \"SP_SECONDARY_APP_ID=$SP_SECONDARY_APP_ID\"\n",
    "  echo \"SP_SECONDARY_PASSWORD=$SP_SECONDARY_PASSWORD\"\n",
    "  echo \"SP_SECONDARY_TENANT_ID=$SP_SECONDARY_TENANT_ID\"\n",
    "  echo \"\"\n",
    "} >> ../.env"
   ]
  },
  {
   "cell_type": "markdown",
   "metadata": {},
   "source": [
    "Définir la stratégie de sécurité du service principal sur get"
   ]
  },
  {
   "cell_type": "code",
   "execution_count": 61,
   "metadata": {},
   "outputs": [],
   "source": [
    "%%bash\n",
    "\n",
    "KEY_VAULT_NAME=\"keyvault-dbreau\"\n",
    "SP_SECONDARY_APP_ID=$(grep -oP '^SP_SECONDARY_APP_ID=\\K.*' ../.env)\n",
    "\n",
    "az keyvault set-policy \\\n",
    "    --name $KEY_VAULT_NAME \\\n",
    "    --spn $SP_SECONDARY_APP_ID \\\n",
    "    --secret-permissions get > $(if [[ \"$OSTYPE\" == \"msys\" || \"$OSTYPE\" == \"cygwin\" ]]; then echo \"nul\"; else echo \"/dev/null\"; fi) 2>&1 #output silencieux sur tous les os"
   ]
  },
  {
   "cell_type": "markdown",
   "metadata": {},
   "source": [
    "### Service principal principal  \n",
    "Création du service principal principal"
   ]
  },
  {
   "cell_type": "code",
   "execution_count": 2,
   "metadata": {},
   "outputs": [
    {
     "name": "stderr",
     "output_type": "stream",
     "text": [
      "WARNING: The output includes credentials that you must protect. Be sure that you do not include these credentials in your code or check the credentials into your source control. For more information, see https://aka.ms/azadsp-cli\n"
     ]
    }
   ],
   "source": [
    "%%bash\n",
    "\n",
    "RG_NAME=\"RG_DBREAU\"\n",
    "PRINCIPAL_NAME=\"dl-sas-read-dbreau\" \n",
    "ROLE_NAME=\"Storage Blob Data Contributor\" # ou \"Storage Blob Delegator\"\n",
    "\n",
    "# Créer le Service Principal et récupérer les informations\n",
    "SP_DETAILS=$(az ad sp create-for-rbac --name \"$PRINCIPAL_NAME\" --query \"{appId:appId, password:password, tenant:tenant}\" -o json)\n",
    "\n",
    "# Récupérer les informations du Service Principal\n",
    "SP_PRINCIPAL_APP_ID=$(echo $SP_DETAILS | jq -r '.appId')\n",
    "SP_PRINCIPAL_PASSWORD=$(echo $SP_DETAILS | jq -r '.password')\n",
    "SP_PRINCIPAL_TENANT_ID=$(echo $SP_DETAILS | jq -r '.tenant')\n",
    "\n",
    "# Stocker dans le .env\n",
    "{\n",
    "  echo \"SP_PRINCIPAL_APP_ID=$SP_PRINCIPAL_APP_ID\"\n",
    "  echo \"SP_PRINCIPAL_PASSWORD=$SP_PRINCIPAL_PASSWORD\"\n",
    "  echo \"SP_PRINCIPAL_TENANT_ID=$SP_PRINCIPAL_TENANT_ID\"\n",
    "  echo \"\"\n",
    "} >> ../.env"
   ]
  },
  {
   "cell_type": "code",
   "execution_count": 85,
   "metadata": {},
   "outputs": [],
   "source": [
    "%%bash\n",
    "\n",
    "RG_NAME=\"RG_DBREAU\"\n",
    "STORAGE_ACCOUNT_NAME=\"adlsbreau\"  \n",
    "# PRINCIPAL_NAME=\"dl-sas-read-dbreau\" \n",
    "ROLE_NAME=\"Storage Blob Data Contributor\" # ou \"Storage Blob Delegator\"\n",
    "# KEY_VAULT_NAME=\"keyvault-dbreau\" \n",
    "\n",
    "SP_PRINCIPAL_APP_ID=$(grep -oP '^SP_PRINCIPAL_APP_ID=\\K.*' ../.env)\n",
    "\n",
    "SUBSCRIPTION_ID=$(az account show --query \"id\" -o tsv)\n",
    "\n",
    "# Assigner le rôle\n",
    "az role assignment create \\\n",
    "    --assignee \"$SP_PRINCIPAL_APP_ID\" \\\n",
    "    --role \"$ROLE_NAME\" \\\n",
    "    --scope \"/subscriptions/$SUBSCRIPTION_ID/resourceGroups/$RG_NAME/providers/Microsoft.Storage/storageAccounts/$STORAGE_ACCOUNT_NAME\" \\\n",
    "    > $(if [[ \"$OSTYPE\" == \"msys\" || \"$OSTYPE\" == \"cygwin\" ]]; then echo \"nul\"; else echo \"/dev/null\"; fi) 2>&1 "
   ]
  }
 ],
 "metadata": {
  "kernelspec": {
   "display_name": "venv",
   "language": "python",
   "name": "python3"
  },
  "language_info": {
   "codemirror_mode": {
    "name": "ipython",
    "version": 3
   },
   "file_extension": ".py",
   "mimetype": "text/x-python",
   "name": "python",
   "nbconvert_exporter": "python",
   "pygments_lexer": "ipython3",
   "version": "3.12.3"
  }
 },
 "nbformat": 4,
 "nbformat_minor": 2
}
